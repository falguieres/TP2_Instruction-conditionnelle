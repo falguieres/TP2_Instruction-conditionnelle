{
 "cells": [
  {
   "cell_type": "markdown",
   "metadata": {
    "colab_type": "text",
    "id": "QxobjGi36HvE"
   },
   "source": [
    "# **TP 2 : Instruction conditionnelle**\n",
    "\n"
   ]
  },
  {
   "cell_type": "markdown",
   "metadata": {},
   "source": [
    "## 1- Exemple :\n",
    "Voici un programme en Python avec une instruction conditionnelle if... else :"
   ]
  },
  {
   "cell_type": "code",
   "execution_count": 7,
   "metadata": {},
   "outputs": [],
   "source": [
    "def Signe(x):\n",
    "    if x>=0:\n",
    "        return \"Le nombre x est positif ou nul\"\n",
    "    return \"Fin\""
   ]
  },
  {
   "cell_type": "markdown",
   "metadata": {},
   "source": [
    "Remarque : le test x>=0, signifie x est supérieur ou égal à 0.\n",
    "\n",
    "Tester ce programme pour $x$= 9 puis pour $x$=-3."
   ]
  },
  {
   "cell_type": "code",
   "execution_count": null,
   "metadata": {},
   "outputs": [],
   "source": []
  },
  {
   "cell_type": "markdown",
   "metadata": {},
   "source": [
    "Lorsque  𝑥  contient l'entier 9, la condition 𝑥>0  est vraie donc la ligne 3 est exécutée et le script s'arrête après l'instruction *return \"Le nombre x est positif ou nul\"*.  \n",
    "Lorsque 𝑥  contient l'entier -3, la condition 𝑥>0  est fausse donc le bloc du if n'est pas exécuté et le script se poursuit à la ligne 4, d'où l'affichage \"Fin\".  \n",
    "\n",
    "Attention :\n",
    "* le : (deux-points) à la fin de la ligne 2 est obligatoire pour respecter la syntaxe Python.\n",
    "* L'indentation (décalage vers le droite d'une tabulation) marque les lignes qui composent le bloc du if. Ici ce bloc du if est composé de la seule ligne 3.\n",
    "* La ligne 4 n'est plus indentée, ce qui signale qu'elle ne fait plus partie du bloc du if.\n"
   ]
  },
  {
   "cell_type": "markdown",
   "metadata": {},
   "source": [
    "Voici deux améliorations de ce programme :"
   ]
  },
  {
   "cell_type": "code",
   "execution_count": 5,
   "metadata": {},
   "outputs": [],
   "source": [
    "def Signe(x):\n",
    "    if x>=0:\n",
    "        return \"Le nombre x est positif\"\n",
    "    else:\n",
    "        return \"Fin\""
   ]
  },
  {
   "cell_type": "code",
   "execution_count": null,
   "metadata": {},
   "outputs": [],
   "source": [
    "def Signe(x):\n",
    "    if x>0:\n",
    "        return \"Le nombre x est strictement positif\"\n",
    "    elif x==0:\n",
    "        return \"Le nombre x est nul\"\n",
    "    else:\n",
    "        return \"Le nombre x est strictement négatif\""
   ]
  },
  {
   "cell_type": "markdown",
   "metadata": {},
   "source": [
    "Remarque : l'instruction x==0 teste si x est égal à 0.  \n",
    "A ne pas confondre avec l'instruction x=3 qui stocke la valeur 3 dans la variable x."
   ]
  },
  {
   "cell_type": "markdown",
   "metadata": {},
   "source": [
    "## 2- A vous de jouer !"
   ]
  },
  {
   "cell_type": "markdown",
   "metadata": {
    "colab_type": "text",
    "id": "0_hgGIWqD0Wh"
   },
   "source": [
    "<span style='color:blue'>**Exercice 1**</span> :"
   ]
  },
  {
   "cell_type": "markdown",
   "metadata": {
    "colab_type": "text",
    "id": "XunBxLwbEFBs"
   },
   "source": [
    "Un site internet de développement de photos propose le tirage sur papier des photos au tarif de 0,11 € l'unité ; le tarif passe à 0,08 € l'unité pour une commande d'au moins 200 photos.\n",
    "\n",
    "Compléter le programme suivant permettant de déterminer le montant de la facture pour le tirage de $n$ photos."
   ]
  },
  {
   "cell_type": "code",
   "execution_count": 9,
   "metadata": {
    "colab": {},
    "colab_type": "code",
    "id": "BXOgWLfzji0c"
   },
   "outputs": [],
   "source": [
    "def facture(n):\n",
    "    if .........:\n",
    "        F=0.11*n\n",
    "    else:\n",
    "        F=.........\n",
    "    return ......."
   ]
  },
  {
   "cell_type": "markdown",
   "metadata": {
    "colab_type": "text",
    "id": "p88ClP8qExDK"
   },
   "source": [
    "Tester le programme pour le tirage de 100 photos puis le tirage de 300 photos."
   ]
  },
  {
   "cell_type": "code",
   "execution_count": null,
   "metadata": {},
   "outputs": [],
   "source": []
  },
  {
   "cell_type": "markdown",
   "metadata": {},
   "source": [
    "<span style='color:blue'>**Exercice 2**</span> :"
   ]
  },
  {
   "attachments": {
    "TP2_image1.png": {
     "image/png": "[encoded data removed]"
    }
   },
   "cell_type": "markdown",
   "metadata": {},
   "source": [
    "Soient $a$, $b$ et $c$ trois réels strictement positifs tels que $a$ $\\le$ $b$ $\\le$ $c$.  \n",
    "On s'intéresse au triangle dont les longueurs sont $a$, $b$ et $c$.  \n",
    "![TP2_image1.png](attachment:TP2_image1.png)\n",
    "Ecrire une fonction Triangle d'arguments $a$, $b$, $c$ qui permet d'afficher si ce triangle est rectangle ou non.\n",
    "\n",
    "On rappelle que, pour tester si, par exemple, l'égalité $x=3$ est vraie, l'instruction à taper est <span style='color:red'> if x==3:"
   ]
  },
  {
   "cell_type": "code",
   "execution_count": 30,
   "metadata": {},
   "outputs": [],
   "source": [
    "def Triangle(a,b,c):\n",
    "    ...."
   ]
  },
  {
   "cell_type": "markdown",
   "metadata": {},
   "source": [
    "Tester ce programme dans le cas où $a$=3, $b$=4 et $c$=5, puis dans le cas où $a$=3, $b$=5 et $c$=6."
   ]
  },
  {
   "cell_type": "code",
   "execution_count": null,
   "metadata": {},
   "outputs": [],
   "source": []
  },
  {
   "cell_type": "markdown",
   "metadata": {},
   "source": [
    "<span style='color:blue'>**Exercice 3**</span> :"
   ]
  },
  {
   "cell_type": "markdown",
   "metadata": {},
   "source": [
    "Au 1er semestre, un étudiant a obtenu 5 notes : $a$, $b$, $c$, $d$ et $e$.  \n",
    "Ecrire une fonction Moyenne en Python d'arguments $a$, $b$, $c$, $d$ et $e$ qui affiche la moyenne $m$ et la mention obtenue sachant que la mention est « passable » si la moyenne est entre 10 inclus et 12 exclus, « assez bien » entre 12 inclus et 14 exclus, « bien » au-delà de 14 et \"recalé\" dans les autres cas."
   ]
  },
  {
   "cell_type": "code",
   "execution_count": 27,
   "metadata": {},
   "outputs": [],
   "source": []
  },
  {
   "cell_type": "markdown",
   "metadata": {},
   "source": [
    "Déterminer la moyenne et la mention d'Antoine qui a obtenu 14, 9, 13, 15 et 12."
   ]
  },
  {
   "cell_type": "code",
   "execution_count": null,
   "metadata": {},
   "outputs": [],
   "source": []
  },
  {
   "cell_type": "markdown",
   "metadata": {},
   "source": [
    "<span style='color:blue'>**Exercice 4**</span> :"
   ]
  },
  {
   "cell_type": "markdown",
   "metadata": {
    "colab_type": "text",
    "id": "3NTNIhKrsCgG"
   },
   "source": [
    "Ecrire une fonction divisible d'argument n permettant de déterminer si le nombre entier $n$ est divisible par 3 ou non.\n",
    "\n",
    "Aide : l'instruction \"n%p\" donne le reste de la division euclidienne de n par p, n et p étant deux entiers."
   ]
  },
  {
   "cell_type": "code",
   "execution_count": 42,
   "metadata": {
    "colab": {},
    "colab_type": "code",
    "id": "3fF2UfBrtBCo"
   },
   "outputs": [],
   "source": []
  },
  {
   "cell_type": "markdown",
   "metadata": {
    "colab_type": "text",
    "id": "BguBVahStEOa"
   },
   "source": [
    "Les nombres suivants sont-ils divisibles par 3 : 45; 565 ; 6 786 ?"
   ]
  },
  {
   "cell_type": "code",
   "execution_count": null,
   "metadata": {},
   "outputs": [],
   "source": []
  }
 ],
 "metadata": {
  "celltoolbar": "Aucun(e)",
  "colab": {
   "collapsed_sections": [],
   "name": "2nde TP 2 Python - Instruction conditionnelle.ipynb",
   "provenance": []
  },
  "kernelspec": {
   "display_name": "Python 3",
   "language": "python",
   "name": "python3"
  },
  "language_info": {
   "codemirror_mode": {
    "name": "ipython",
    "version": 3
   },
   "file_extension": ".py",
   "mimetype": "text/x-python",
   "name": "python",
   "nbconvert_exporter": "python",
   "pygments_lexer": "ipython3",
   "version": "3.7.3"
  }
 },
 "nbformat": 4,
 "nbformat_minor": 1
}
