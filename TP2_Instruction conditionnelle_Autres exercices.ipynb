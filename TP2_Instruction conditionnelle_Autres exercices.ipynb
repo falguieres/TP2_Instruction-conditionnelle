{
 "cells": [
  {
   "cell_type": "markdown",
   "metadata": {
    "colab_type": "text",
    "id": "QxobjGi36HvE"
   },
   "source": [
    "# **Instruction conditionnelle : autres exercices**\n",
    "\n"
   ]
  },
  {
   "cell_type": "markdown",
   "metadata": {
    "colab_type": "text",
    "id": "p37Ok3BhE0Ld"
   },
   "source": [
    "## **Exercice 1 :**\n",
    "Un groupe de personnes souhaite réserver un chalet pour les sports d'hiver. Le prix de la location à la semaine est de 800 €.\n",
    "\n",
    "Le forfait pour skier toute la semaine est de 220 € par personne, mais il existe un tarif \"groupe\" à 180 € par personne à partir de 5 personnes d'un même groupe."
   ]
  },
  {
   "cell_type": "markdown",
   "metadata": {
    "colab_type": "text",
    "id": "FNwIzqv4FPEf"
   },
   "source": [
    "1) a. Quel est le prix payé par un groupe de 4 personnes ?\n",
    "\n",
    "b. Quel est le prix payé par un groupe de 6 personnes ?"
   ]
  },
  {
   "cell_type": "markdown",
   "metadata": {
    "colab_type": "text",
    "id": "8BzC8YtGFmIy"
   },
   "source": [
    "2) Ecrire un programme en langage Python permettant d'afficher le prix payé par un groupe de N personnes pour la semaine.\n",
    "\n",
    "*Aide : \n",
    "$\\ge$ s'écrit >= en langage Python.*"
   ]
  },
  {
   "cell_type": "code",
   "execution_count": null,
   "metadata": {
    "colab": {},
    "colab_type": "code",
    "id": "lEE6N3pSFno0"
   },
   "outputs": [],
   "source": []
  },
  {
   "cell_type": "markdown",
   "metadata": {
    "colab_type": "text",
    "id": "XggcfI7rmjDq"
   },
   "source": [
    "## **Exercice 2 :**\n",
    "\n",
    "1) Ecrire un programme en langage Python à l'aide d'une fonction mystère d'arguments a,b et x permettant d'afficher si le nombre $x$ appartient à l'intervalle $[a ; b]$ ou non :\n"
   ]
  },
  {
   "cell_type": "code",
   "execution_count": null,
   "metadata": {
    "colab": {},
    "colab_type": "code",
    "id": "_zB8DHpnnOJt"
   },
   "outputs": [],
   "source": []
  },
  {
   "cell_type": "markdown",
   "metadata": {
    "colab_type": "text",
    "id": "KiN8xXdHnnaI"
   },
   "source": [
    "2) Contrôler le programme dans les cas suivants :      \n",
    "\n",
    "a = – 3 ; b = 1 et x = 0,8"
   ]
  },
  {
   "cell_type": "code",
   "execution_count": null,
   "metadata": {
    "colab": {},
    "colab_type": "code",
    "id": "LA1PtHi3nqYj"
   },
   "outputs": [],
   "source": []
  },
  {
   "cell_type": "markdown",
   "metadata": {
    "colab_type": "text",
    "id": "-KsNH0O9pSuj"
   },
   "source": [
    "a = – 5 ; b = 2 et x = – 5,1"
   ]
  },
  {
   "cell_type": "code",
   "execution_count": null,
   "metadata": {
    "colab": {},
    "colab_type": "code",
    "id": "8Fn-SWBrpZQG"
   },
   "outputs": [],
   "source": []
  },
  {
   "cell_type": "markdown",
   "metadata": {
    "colab_type": "text",
    "id": "VPvspGFJp1eT"
   },
   "source": [
    "a = 1 ; b = 3 et x = 3"
   ]
  },
  {
   "cell_type": "code",
   "execution_count": null,
   "metadata": {
    "colab": {},
    "colab_type": "code",
    "id": "ozFvhHU5qJE6"
   },
   "outputs": [],
   "source": []
  },
  {
   "cell_type": "markdown",
   "metadata": {
    "colab_type": "text",
    "id": "ZsyNlYV5qSta"
   },
   "source": [
    "3) Modifier ce programme pour qu’il teste si un nombre réel $x$ appartient à l’intervalle $]a ; b]$."
   ]
  },
  {
   "cell_type": "code",
   "execution_count": null,
   "metadata": {
    "colab": {},
    "colab_type": "code",
    "id": "UFkmKUVeqai5"
   },
   "outputs": [],
   "source": []
  },
  {
   "cell_type": "markdown",
   "metadata": {
    "colab_type": "text",
    "id": "oyrDs-N_qbI1"
   },
   "source": [
    "4) Modifier ce programme afin qu’il teste si un nombre réel $x$ appartient à l’intervalle $]– ∞ ; b[$."
   ]
  },
  {
   "cell_type": "code",
   "execution_count": null,
   "metadata": {
    "colab": {},
    "colab_type": "code",
    "id": "1b7SbHuwqljw"
   },
   "outputs": [],
   "source": []
  },
  {
   "cell_type": "markdown",
   "metadata": {},
   "source": [
    "## Exercice 3 :\n",
    "\n",
    "L'indice de masse corporelle (IMC) est une grandeur permettant d'estimer la corpulence d'un individu.\n",
    "Sur un site internet, Louis a trouvé une application lui permettant de calculer l'IMC : il saisit son poids en kg et sa taille en m et cette application affiche son IMC qui se calcule par la formule suivante $\\text{IMC}=\\frac{\\text{poids}}{\\text{taille}²}$\n",
    "\n",
    "1) Calculer l'IMC d'une personne mesurant 1m73 et pesant 70 kg."
   ]
  },
  {
   "cell_type": "markdown",
   "metadata": {},
   "source": [
    "2) a. Cette application utilise une fonction codée dans le langage Python qui prend en argument le poids p et la taille t et retourne l'IMC correspondant.\n",
    "\n",
    "Compléter cette fonction."
   ]
  },
  {
   "cell_type": "code",
   "execution_count": null,
   "metadata": {},
   "outputs": [],
   "source": [
    "def IMC(p,t):\n",
    "    i = ................................\n",
    "    return i"
   ]
  },
  {
   "cell_type": "markdown",
   "metadata": {},
   "source": [
    "b. Contrôler le résultat obtenu en 1) en exécutant ce programme."
   ]
  },
  {
   "cell_type": "code",
   "execution_count": null,
   "metadata": {},
   "outputs": [],
   "source": []
  },
  {
   "cell_type": "markdown",
   "metadata": {},
   "source": [
    "3) a. Les médecins considèrent qu'un individu est en surpoids dès que son IMC dépasse 25.\n",
    "\n",
    "Cette application indique également si l'utilisateur est en surpoids ou non.\n",
    "\n",
    "Compléter le programme ci-contre, utilisant la fonction IMC précédente, afin qu'il affiche si l'utilisateur est en surpoids ou non : \n"
   ]
  },
  {
   "cell_type": "code",
   "execution_count": null,
   "metadata": {},
   "outputs": [],
   "source": [
    "def surpoids(p,t):\n",
    "    if IMC(p,t) .......... :\n",
    "        return \"le sujet n'est pas en surpoids\"\n",
    "    else:\n",
    "        return .............................................."
   ]
  },
  {
   "cell_type": "markdown",
   "metadata": {},
   "source": [
    "b. Exécuter ce programme pour déterminer si un individu pesant 90 kg et mesurant 1m90 est en surpoids."
   ]
  },
  {
   "cell_type": "markdown",
   "metadata": {},
   "source": [
    "4) Louis mesure 1m90 mais son poids varie. A partir de quel poids sera-t-il en surpoids ? Justifier."
   ]
  }
 ],
 "metadata": {
  "colab": {
   "collapsed_sections": [],
   "name": "2nde TP 2 Python - Instruction conditionnelle.ipynb",
   "provenance": []
  },
  "kernelspec": {
   "display_name": "Python 3",
   "language": "python",
   "name": "python3"
  },
  "language_info": {
   "codemirror_mode": {
    "name": "ipython",
    "version": 3
   },
   "file_extension": ".py",
   "mimetype": "text/x-python",
   "name": "python",
   "nbconvert_exporter": "python",
   "pygments_lexer": "ipython3",
   "version": "3.7.3"
  }
 },
 "nbformat": 4,
 "nbformat_minor": 1
}
